{
 "cells": [
  {
   "cell_type": "code",
   "execution_count": 1,
   "metadata": {},
   "outputs": [],
   "source": [
    "import scipy.io as sio\n",
    "import numpy as np\n",
    "from sklearn.cluster import KMeans\n",
    "from collections import Counter\n",
    "import random"
   ]
  },
  {
   "cell_type": "markdown",
   "metadata": {},
   "source": [
    "#### Part 1"
   ]
  },
  {
   "cell_type": "code",
   "execution_count": 2,
   "metadata": {},
   "outputs": [],
   "source": [
    "matFile = sio.loadmat(\"mnist_10digits.mat\")\n",
    "\n",
    "xtrain = matFile[\"xtrain\"]\n",
    "ytrain = matFile[\"ytrain\"]\n",
    "xtest = matFile[\"xtest\"]\n",
    "ytest = matFile[\"ytest\"]\n",
    "ytrain = ytrain.flatten()"
   ]
  },
  {
   "cell_type": "code",
   "execution_count": 3,
   "metadata": {},
   "outputs": [],
   "source": [
    "# Normalization\n",
    "xtrain = xtrain.astype(\"float32\") / 255.0\n",
    "xtest = xtest.astype(\"float32\") / 255.0"
   ]
  },
  {
   "cell_type": "code",
   "execution_count": 4,
   "metadata": {},
   "outputs": [],
   "source": [
    "n_digits = len(np.unique(ytrain))\n",
    "\n",
    "# Set seed for reproducibility\n",
    "random.seed(5)\n",
    "np.random.seed(5)\n",
    "\n",
    "# Instantiate Kmeans clustering object\n",
    "kmeans = KMeans(n_clusters=n_digits, random_state=45, n_init = 10)\n",
    "\n",
    "cluster_labels = kmeans.fit_predict(xtrain)"
   ]
  },
  {
   "cell_type": "code",
   "execution_count": 5,
   "metadata": {},
   "outputs": [],
   "source": [
    "def calc_purity(clusters):\n",
    "    purity = {}\n",
    "\n",
    "    for cluster in np.unique(clusters):\n",
    "        # Find indices of each cluster\n",
    "        indx = np.where(clusters == cluster)[0]\n",
    "\n",
    "        # Get the true labels associated with the nodes that are grouped in the same cluster\n",
    "        cluster_true_labels = ytrain[indx]\n",
    "        # Count # of true labels that are in the same cluster\n",
    "        count_labels = Counter(cluster_true_labels)\n",
    "\n",
    "        # Get the majority label based on the maximum count\n",
    "        maj_label = max(\n",
    "            count_labels, key=count_labels.get\n",
    "        )  # Code adapted from https://www.w3resource.com/python-exercises/dictionary/python-data-type-dictionary-exercise-80.php\n",
    "\n",
    "        matched_num = count_labels[maj_label]\n",
    "\n",
    "        # Compute purity rate = correctly assigned samples/ size of cluster\n",
    "        purity[cluster] = matched_num / len(indx)\n",
    "\n",
    "\n",
    "    return purity"
   ]
  },
  {
   "cell_type": "code",
   "execution_count": 6,
   "metadata": {},
   "outputs": [
    {
     "name": "stdout",
     "output_type": "stream",
     "text": [
      "purity = {np.int32(0): 0.5260193133047211, np.int32(1): 0.6232394366197183, np.int32(2): 0.8593668007696345, np.int32(3): 0.4266335066696812, np.int32(4): 0.3572308726335835, np.int32(5): 0.9047927461139896, np.int32(6): 0.8952198036705079, np.int32(7): 0.5327487473156765, np.int32(8): 0.7922858046158711, np.int32(9): 0.5261233815689261}\n"
     ]
    }
   ],
   "source": [
    "np.random.seed(5)\n",
    "\n",
    "purity = calc_purity(cluster_labels)\n",
    "print(f\"{purity = }\")\n"
   ]
  },
  {
   "cell_type": "markdown",
   "metadata": {},
   "source": [
    "#### Part 2"
   ]
  },
  {
   "cell_type": "code",
   "execution_count": 7,
   "metadata": {},
   "outputs": [],
   "source": [
    "from sklearn.metrics import pairwise_distances\n",
    "from scipy import stats"
   ]
  },
  {
   "cell_type": "code",
   "execution_count": 8,
   "metadata": {},
   "outputs": [],
   "source": [
    "matFile = sio.loadmat(\"mnist_10digits.mat\")\n",
    "\n",
    "xtrain = matFile[\"xtrain\"]\n",
    "ytrain = matFile[\"ytrain\"]\n",
    "xtest = matFile[\"xtest\"]\n",
    "ytest = matFile[\"ytest\"]\n",
    "ytrain = ytrain.flatten()"
   ]
  },
  {
   "cell_type": "code",
   "execution_count": 9,
   "metadata": {},
   "outputs": [
    {
     "data": {
      "text/plain": [
       "(60000, 784)"
      ]
     },
     "execution_count": 9,
     "metadata": {},
     "output_type": "execute_result"
    }
   ],
   "source": [
    "# If pixel > 128, assign as 1; otherwise 0\n",
    "# Adapted code from https://stackoverflow.com/questions/19766757/replacing-numpy-elements-if-condition-is-met\n",
    "xtrain[xtrain <= 128] = 0\n",
    "xtrain[xtrain > 128] = 1\n",
    "np.unique(xtrain)\n",
    "xtrain.shape"
   ]
  },
  {
   "cell_type": "code",
   "execution_count": 10,
   "metadata": {},
   "outputs": [],
   "source": [
    "def kmeans_hamming(k=10, epsilon = 0):\n",
    "    n_feature = xtrain.shape[1]\n",
    "\n",
    "    # Randomly creates centroids with binary values (0 and 1)\n",
    "    centroids = np.random.choice([0, 1], size = (10, n_feature))\n",
    "    \n",
    "    # Store changes in centroids\n",
    "    avg_hamming = np.inf\n",
    "\n",
    "    while avg_hamming > epsilon:\n",
    "        normalized_distances = pairwise_distances(xtrain, centroids, metric='hamming')\n",
    "        \n",
    "        # distances = normalized_distances * n_feature\n",
    "\n",
    "        # Assign data points to the closest centroids\n",
    "        labels = np.argmin(normalized_distances, axis = 1)\n",
    "        \n",
    "        # Code adapted from https://stackoverflow.com/questions/16330831/most-efficient-way-to-find-mode-in-numpy-array\n",
    "        # Store updated centroids\n",
    "        new_centroids = np.zeros((10, n_feature))\n",
    "\n",
    "        # Find majority label for each feature\n",
    "        for i in range(k):\n",
    "            indx = labels[labels == i]\n",
    "            assigned_data = xtrain[indx]\n",
    "            majority = stats.mode(assigned_data, keepdims = True)[0]\n",
    "            # Store new centroids in new_centroids\n",
    "            new_centroids[i,:] = majority\n",
    "        \n",
    "        change = np.sum(new_centroids != centroids, axis = 1)\n",
    "        avg_hamming = np.mean(change) # Average Hamming distance across centroids\n",
    "        centroids = new_centroids\n",
    "\n",
    "    return labels\n",
    "    \n"
   ]
  },
  {
   "cell_type": "code",
   "execution_count": 11,
   "metadata": {},
   "outputs": [],
   "source": [
    "np.random.seed(5)\n",
    "\n",
    "labels = kmeans_hamming(k=10, epsilon = 0)"
   ]
  },
  {
   "cell_type": "code",
   "execution_count": 12,
   "metadata": {},
   "outputs": [
    {
     "name": "stdout",
     "output_type": "stream",
     "text": [
      "purity = {np.int64(0): 0.5296752519596865, np.int64(1): 0.7938212456633075, np.int64(2): 0.5611924686192469, np.int64(3): 0.3341034103410341, np.int64(4): 0.4146772767462423, np.int64(5): 0.7190119100132334, np.int64(6): 0.2898259705488621, np.int64(7): 0.4849068721901092, np.int64(8): 0.19253303415607081, np.int64(9): 0.3377684407096172}\n"
     ]
    }
   ],
   "source": [
    "purity = calc_purity(labels)\n",
    "print(f\"{purity = }\")"
   ]
  }
 ],
 "metadata": {
  "kernelspec": {
   "display_name": "general_env",
   "language": "python",
   "name": "python3"
  },
  "language_info": {
   "codemirror_mode": {
    "name": "ipython",
    "version": 3
   },
   "file_extension": ".py",
   "mimetype": "text/x-python",
   "name": "python",
   "nbconvert_exporter": "python",
   "pygments_lexer": "ipython3",
   "version": "3.13.1"
  }
 },
 "nbformat": 4,
 "nbformat_minor": 2
}
