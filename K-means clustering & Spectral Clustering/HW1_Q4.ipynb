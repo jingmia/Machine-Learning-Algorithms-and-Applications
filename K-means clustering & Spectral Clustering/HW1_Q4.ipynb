{
 "cells": [
  {
   "cell_type": "code",
   "execution_count": 1,
   "metadata": {},
   "outputs": [],
   "source": [
    "import numpy as np\n",
    "from os.path import abspath, exists\n",
    "from scipy import sparse\n",
    "import scipy\n",
    "from sklearn.cluster import KMeans\n",
    "from matplotlib import pyplot as plt\n",
    "from collections import Counter"
   ]
  },
  {
   "cell_type": "code",
   "execution_count": 2,
   "metadata": {},
   "outputs": [],
   "source": [
    "# Functions to import nodes and edges files. Code below is adapted from test_football demo code.\n",
    "def import_nodes_graph():\n",
    "    # read the graph from txt files\n",
    "    f_path = abspath(\"nodes.txt\")\n",
    "    if exists(f_path):\n",
    "        with open(f_path) as graph_file:\n",
    "            nodes_lines = [line.split()[0] for line in graph_file]\n",
    "    return np.array(nodes_lines).astype(int)\n",
    "\n",
    "\n",
    "def import_labels_graph():\n",
    "    # read the true labels from txt files\n",
    "    f_path = abspath(\"nodes.txt\")\n",
    "    if exists(f_path):\n",
    "        with open(f_path) as graph_file:\n",
    "            true_label = [line.split()[2] for line in graph_file]\n",
    "    return np.array(true_label).astype(int)\n",
    "\n",
    "\n",
    "def import_edges_graph():\n",
    "    # read the graph from txt file\n",
    "    f_path = abspath(\"edges.txt\")\n",
    "    if exists(f_path):\n",
    "        with open(f_path) as graph_file:\n",
    "            lines = [line.split() for line in graph_file]\n",
    "    return np.array(lines).astype(int)"
   ]
  },
  {
   "cell_type": "code",
   "execution_count": 3,
   "metadata": {},
   "outputs": [
    {
     "data": {
      "text/plain": [
       "(19090, 2)"
      ]
     },
     "execution_count": 3,
     "metadata": {},
     "output_type": "execute_result"
    }
   ],
   "source": [
    "np.set_printoptions(threshold=np.inf)\n",
    "nodes = import_nodes_graph()\n",
    "\n",
    "labels = import_labels_graph()\n",
    "# print(f\"{len(labels)}\")\n",
    "\n",
    "edges = import_edges_graph()\n",
    "edges.shape\n",
    "# print(f\"{edges}\")"
   ]
  },
  {
   "cell_type": "code",
   "execution_count": 4,
   "metadata": {},
   "outputs": [],
   "source": [
    "def spectral_clusters(k):\n",
    "    # The following codes are adapted from test_football demo code.\n",
    "    i = edges[:, 0] - 1  # Take the first column and decrement by 1\n",
    "    j = edges[:, 1] - 1  # Take the second column and decrement by 1\n",
    "    n = len(nodes)\n",
    "\n",
    "    v = np.ones(edges.shape[0])\n",
    "\n",
    "    # Create adjacency matrix\n",
    "    A = sparse.coo_matrix((v, (i, j)), shape=(n, n))\n",
    "    A = A + A.T\n",
    "    # There are duplicative edges resulting in values greater than 1. Replace with 1.\n",
    "    A[A > 0] = 1\n",
    "    A = sparse.csc_matrix.todense(A)  # Convert to dense matrix\n",
    "\n",
    "    # Remove nodes that have no connections\n",
    "    degree = np.sum(np.array(A), axis=0).flatten()\n",
    "    connected_nodes = degree > 0\n",
    "    updated_edges = A[connected_nodes][:, connected_nodes]\n",
    "\n",
    "    # Filter the labels\n",
    "    filtered_labels = labels[connected_nodes]\n",
    "\n",
    "    D = np.diag(1 / np.sqrt(np.sum(updated_edges, axis=1)).A1)\n",
    "    L = D @ updated_edges @ D\n",
    "    L = np.array(L)  # ## covert to array\n",
    "\n",
    "    # The following code is adapted from test_football demo code.\n",
    "    # Eigendecomposition\n",
    "    v, x = scipy.linalg.eigh(L)\n",
    "\n",
    "    idx_sorted = np.argsort(v)\n",
    "\n",
    "    # Obtain the largest eigenvectors\n",
    "    x = x[:, idx_sorted[-k:]]\n",
    "    x = x / np.repeat(np.sqrt(np.sum(x * x, axis=1).reshape(-1, 1)), k, axis=1)\n",
    "\n",
    "    kmeans = KMeans(n_clusters=k).fit(x)\n",
    "    c_idx = kmeans.labels_\n",
    "\n",
    "    return (c_idx, len(updated_edges), filtered_labels)"
   ]
  },
  {
   "cell_type": "code",
   "execution_count": 5,
   "metadata": {},
   "outputs": [],
   "source": [
    "def find_maj_label(clusters, n, filtered_labels):\n",
    "    majority_labels = {}\n",
    "    mismatch_rate = {}\n",
    "    weight = {}\n",
    "\n",
    "    for cluster in np.unique(clusters):\n",
    "        # Find indices of each cluster\n",
    "        indx = np.where(clusters == cluster)[0]\n",
    "        # Get the true labels associated with the nodes that are grouped in the same cluster\n",
    "        cluster_true_labels = filtered_labels[indx]\n",
    "        # Count how many 0s and 1s true labels that are in the same cluster\n",
    "        count_labels = Counter(cluster_true_labels)\n",
    "\n",
    "        # Get the majority label based on the maximum count\n",
    "        maj_label = max(\n",
    "            count_labels, key=count_labels.get\n",
    "        )  # Code adapted from https://www.w3resource.com/python-exercises/dictionary/python-data-type-dictionary-exercise-80.php\n",
    "\n",
    "        mismatch_val = len(indx) - count_labels[maj_label]\n",
    "\n",
    "        # Compute overall mismatch rate (not weighted) = total mismatch / # nodes in the cluster\n",
    "        mismatch_rate[cluster] = mismatch_val / len(indx)\n",
    "\n",
    "        # Compute weight\n",
    "        weight[cluster] = len(indx) / n\n",
    "\n",
    "\n",
    "    return majority_labels, mismatch_rate, weight"
   ]
  },
  {
   "cell_type": "code",
   "execution_count": 6,
   "metadata": {},
   "outputs": [
    {
     "name": "stderr",
     "output_type": "stream",
     "text": [
      "c:\\Users\\jm121\\miniconda3\\envs\\general_env\\Lib\\site-packages\\sklearn\\cluster\\_kmeans.py:1419: UserWarning: KMeans is known to have a memory leak on Windows with MKL, when there are less chunks than available threads. You can avoid it by setting the environment variable OMP_NUM_THREADS=5.\n",
      "  warnings.warn(\n"
     ]
    },
    {
     "name": "stdout",
     "output_type": "stream",
     "text": [
      "mismatch_rate = {np.int32(0): 0.4795417348608838, np.int32(1): 0.0}\n"
     ]
    },
    {
     "name": "stderr",
     "output_type": "stream",
     "text": [
      "c:\\Users\\jm121\\miniconda3\\envs\\general_env\\Lib\\site-packages\\sklearn\\cluster\\_kmeans.py:1419: UserWarning: KMeans is known to have a memory leak on Windows with MKL, when there are less chunks than available threads. You can avoid it by setting the environment variable OMP_NUM_THREADS=5.\n",
      "  warnings.warn(\n"
     ]
    },
    {
     "name": "stdout",
     "output_type": "stream",
     "text": [
      "mismatch_rate = {np.int32(0): 0.02197802197802198, np.int32(1): 0.02707275803722504, np.int32(2): 0.45454545454545453, np.int32(3): 0.2, np.int32(4): 0.4}\n"
     ]
    },
    {
     "name": "stderr",
     "output_type": "stream",
     "text": [
      "c:\\Users\\jm121\\miniconda3\\envs\\general_env\\Lib\\site-packages\\sklearn\\cluster\\_kmeans.py:1419: UserWarning: KMeans is known to have a memory leak on Windows with MKL, when there are less chunks than available threads. You can avoid it by setting the environment variable OMP_NUM_THREADS=5.\n",
      "  warnings.warn(\n"
     ]
    },
    {
     "name": "stdout",
     "output_type": "stream",
     "text": [
      "mismatch_rate = {np.int32(0): 0.023474178403755867, np.int32(1): 0.02203856749311295, np.int32(2): 0.1875, np.int32(3): 0.45714285714285713, np.int32(4): 0.017543859649122806, np.int32(5): 0.47058823529411764, np.int32(6): 0.02857142857142857, np.int32(7): 0.0, np.int32(8): 0.03225806451612903, np.int32(9): 0.024128686327077747}\n"
     ]
    },
    {
     "name": "stderr",
     "output_type": "stream",
     "text": [
      "c:\\Users\\jm121\\miniconda3\\envs\\general_env\\Lib\\site-packages\\sklearn\\cluster\\_kmeans.py:1419: UserWarning: KMeans is known to have a memory leak on Windows with MKL, when there are less chunks than available threads. You can avoid it by setting the environment variable OMP_NUM_THREADS=5.\n",
      "  warnings.warn(\n"
     ]
    },
    {
     "name": "stdout",
     "output_type": "stream",
     "text": [
      "mismatch_rate = {np.int32(0): 0.01282051282051282, np.int32(1): 0.024390243902439025, np.int32(2): 0.022222222222222223, np.int32(3): 0.07272727272727272, np.int32(4): 0.02702702702702703, np.int32(5): 0.13333333333333333, np.int32(6): 0.06382978723404255, np.int32(7): 0.08695652173913043, np.int32(8): 0.05714285714285714, np.int32(9): 0.024096385542168676, np.int32(10): 0.08791208791208792, np.int32(11): 0.3783783783783784, np.int32(12): 0.0, np.int32(13): 0.10638297872340426, np.int32(14): 0.0, np.int32(15): 0.2, np.int32(16): 0.09090909090909091, np.int32(17): 0.045454545454545456, np.int32(18): 0.16666666666666666, np.int32(19): 0.031914893617021274, np.int32(20): 0.0, np.int32(21): 0.2222222222222222, np.int32(22): 0.04, np.int32(23): 0.0, np.int32(24): 0.0, np.int32(25): 0.14634146341463414, np.int32(26): 0.0196078431372549, np.int32(27): 0.023809523809523808, np.int32(28): 0.2, np.int32(29): 0.0}\n",
      "mismatch_rate = {np.int32(0): 0.0, np.int32(1): 0.0, np.int32(2): 0.02127659574468085, np.int32(3): 0.13333333333333333, np.int32(4): 0.3548387096774194, np.int32(5): 0.25, np.int32(6): 0.05263157894736842, np.int32(7): 0.029411764705882353, np.int32(8): 0.2222222222222222, np.int32(9): 0.09090909090909091, np.int32(10): 0.023809523809523808, np.int32(11): 0.07142857142857142, np.int32(12): 0.0, np.int32(13): 0.0, np.int32(14): 0.07407407407407407, np.int32(15): 0.13636363636363635, np.int32(16): 0.027777777777777776, np.int32(17): 0.05555555555555555, np.int32(18): 0.0, np.int32(19): 0.2, np.int32(20): 0.0, np.int32(21): 0.0, np.int32(22): 0.4090909090909091, np.int32(23): 0.023809523809523808, np.int32(24): 0.1111111111111111, np.int32(25): 0.0, np.int32(26): 0.03225806451612903, np.int32(27): 0.06896551724137931, np.int32(28): 0.0, np.int32(29): 0.0, np.int32(30): 0.2571428571428571, np.int32(31): 0.02857142857142857, np.int32(32): 0.0, np.int32(33): 0.0, np.int32(34): 0.0, np.int32(35): 0.0, np.int32(36): 0.25, np.int32(37): 0.0, np.int32(38): 0.21428571428571427, np.int32(39): 0.0, np.int32(40): 0.030303030303030304, np.int32(41): 0.35714285714285715, np.int32(42): 0.0625, np.int32(43): 0.07142857142857142, np.int32(44): 0.0, np.int32(45): 0.08, np.int32(46): 0.125, np.int32(47): 0.0, np.int32(48): 0.046511627906976744, np.int32(49): 0.0}\n",
      "mismatch_mat = array([[0.48, 0.02, 0.02, 0.01, 0.  ],\n",
      "       [0.  , 0.03, 0.02, 0.02, 0.  ],\n",
      "       [0.  , 0.45, 0.19, 0.02, 0.02],\n",
      "       [0.  , 0.2 , 0.46, 0.07, 0.13],\n",
      "       [0.  , 0.4 , 0.02, 0.03, 0.35],\n",
      "       [0.  , 0.  , 0.47, 0.13, 0.25],\n",
      "       [0.  , 0.  , 0.03, 0.06, 0.05],\n",
      "       [0.  , 0.  , 0.  , 0.09, 0.03],\n",
      "       [0.  , 0.  , 0.03, 0.06, 0.22],\n",
      "       [0.  , 0.  , 0.02, 0.02, 0.09],\n",
      "       [0.  , 0.  , 0.  , 0.09, 0.02],\n",
      "       [0.  , 0.  , 0.  , 0.38, 0.07],\n",
      "       [0.  , 0.  , 0.  , 0.  , 0.  ],\n",
      "       [0.  , 0.  , 0.  , 0.11, 0.  ],\n",
      "       [0.  , 0.  , 0.  , 0.  , 0.07],\n",
      "       [0.  , 0.  , 0.  , 0.2 , 0.14],\n",
      "       [0.  , 0.  , 0.  , 0.09, 0.03],\n",
      "       [0.  , 0.  , 0.  , 0.05, 0.06],\n",
      "       [0.  , 0.  , 0.  , 0.17, 0.  ],\n",
      "       [0.  , 0.  , 0.  , 0.03, 0.2 ],\n",
      "       [0.  , 0.  , 0.  , 0.  , 0.  ],\n",
      "       [0.  , 0.  , 0.  , 0.22, 0.  ],\n",
      "       [0.  , 0.  , 0.  , 0.04, 0.41],\n",
      "       [0.  , 0.  , 0.  , 0.  , 0.02],\n",
      "       [0.  , 0.  , 0.  , 0.  , 0.11],\n",
      "       [0.  , 0.  , 0.  , 0.15, 0.  ],\n",
      "       [0.  , 0.  , 0.  , 0.02, 0.03],\n",
      "       [0.  , 0.  , 0.  , 0.02, 0.07],\n",
      "       [0.  , 0.  , 0.  , 0.2 , 0.  ],\n",
      "       [0.  , 0.  , 0.  , 0.  , 0.  ],\n",
      "       [0.  , 0.  , 0.  , 0.  , 0.26],\n",
      "       [0.  , 0.  , 0.  , 0.  , 0.03],\n",
      "       [0.  , 0.  , 0.  , 0.  , 0.  ],\n",
      "       [0.  , 0.  , 0.  , 0.  , 0.  ],\n",
      "       [0.  , 0.  , 0.  , 0.  , 0.  ],\n",
      "       [0.  , 0.  , 0.  , 0.  , 0.  ],\n",
      "       [0.  , 0.  , 0.  , 0.  , 0.25],\n",
      "       [0.  , 0.  , 0.  , 0.  , 0.  ],\n",
      "       [0.  , 0.  , 0.  , 0.  , 0.21],\n",
      "       [0.  , 0.  , 0.  , 0.  , 0.  ],\n",
      "       [0.  , 0.  , 0.  , 0.  , 0.03],\n",
      "       [0.  , 0.  , 0.  , 0.  , 0.36],\n",
      "       [0.  , 0.  , 0.  , 0.  , 0.06],\n",
      "       [0.  , 0.  , 0.  , 0.  , 0.07],\n",
      "       [0.  , 0.  , 0.  , 0.  , 0.  ],\n",
      "       [0.  , 0.  , 0.  , 0.  , 0.08],\n",
      "       [0.  , 0.  , 0.  , 0.  , 0.12],\n",
      "       [0.  , 0.  , 0.  , 0.  , 0.  ],\n",
      "       [0.  , 0.  , 0.  , 0.  , 0.05],\n",
      "       [0.  , 0.  , 0.  , 0.  , 0.  ]])\n",
      "mismatch_arr = array([0.4788, 0.0539, 0.0588, 0.0637, 0.0719])\n"
     ]
    },
    {
     "name": "stderr",
     "output_type": "stream",
     "text": [
      "c:\\Users\\jm121\\miniconda3\\envs\\general_env\\Lib\\site-packages\\sklearn\\cluster\\_kmeans.py:1419: UserWarning: KMeans is known to have a memory leak on Windows with MKL, when there are less chunks than available threads. You can avoid it by setting the environment variable OMP_NUM_THREADS=5.\n",
      "  warnings.warn(\n"
     ]
    }
   ],
   "source": [
    "k = [2, 5, 10, 30, 50]\n",
    "\n",
    "np.random.seed(2)\n",
    "\n",
    "# Store overall weighted average mismatch rates for all k values\n",
    "mismatch_arr = np.zeros(len(k))  \n",
    "\n",
    "# Store mismatch rates by group within the cluster\n",
    "mismatch_group = []\n",
    "\n",
    "for indx, k_val in enumerate(k):\n",
    "    clusters, n, filtered_labels = spectral_clusters(k_val)\n",
    "    majority_labels, mismatch_rate, weight = find_maj_label(clusters, n, filtered_labels)\n",
    "    overall_mismatch = sum([mismatch_rate[j] * weight[j] for j in range(k_val)])\n",
    "    mismatch_arr[indx] = np.round(overall_mismatch, 4)\n",
    "    print(f\"{mismatch_rate = }\")\n",
    "\n",
    "    mismatch_group.append(list(mismatch_rate.values()))\n",
    "\n",
    "\n",
    "mismatch_mat = np.array([np.pad(arr, (0, max(k) - len(arr)), 'constant', constant_values=0) for arr in mismatch_group])\n",
    "mismatch_mat = np.vstack(np.round(mismatch_mat,2)).T\n",
    "\n",
    "print(f\"{mismatch_mat = }\")\n",
    "print(f\"{mismatch_arr = }\")"
   ]
  },
  {
   "cell_type": "markdown",
   "metadata": {},
   "source": [
    "Part 2"
   ]
  },
  {
   "cell_type": "code",
   "execution_count": 7,
   "metadata": {},
   "outputs": [
    {
     "name": "stderr",
     "output_type": "stream",
     "text": [
      "c:\\Users\\jm121\\miniconda3\\envs\\general_env\\Lib\\site-packages\\sklearn\\cluster\\_kmeans.py:1419: UserWarning: KMeans is known to have a memory leak on Windows with MKL, when there are less chunks than available threads. You can avoid it by setting the environment variable OMP_NUM_THREADS=5.\n",
      "  warnings.warn(\n",
      "c:\\Users\\jm121\\miniconda3\\envs\\general_env\\Lib\\site-packages\\sklearn\\cluster\\_kmeans.py:1419: UserWarning: KMeans is known to have a memory leak on Windows with MKL, when there are less chunks than available threads. You can avoid it by setting the environment variable OMP_NUM_THREADS=5.\n",
      "  warnings.warn(\n",
      "c:\\Users\\jm121\\miniconda3\\envs\\general_env\\Lib\\site-packages\\sklearn\\cluster\\_kmeans.py:1419: UserWarning: KMeans is known to have a memory leak on Windows with MKL, when there are less chunks than available threads. You can avoid it by setting the environment variable OMP_NUM_THREADS=5.\n",
      "  warnings.warn(\n",
      "c:\\Users\\jm121\\miniconda3\\envs\\general_env\\Lib\\site-packages\\sklearn\\cluster\\_kmeans.py:1419: UserWarning: KMeans is known to have a memory leak on Windows with MKL, when there are less chunks than available threads. You can avoid it by setting the environment variable OMP_NUM_THREADS=5.\n",
      "  warnings.warn(\n",
      "c:\\Users\\jm121\\miniconda3\\envs\\general_env\\Lib\\site-packages\\sklearn\\cluster\\_kmeans.py:1419: UserWarning: KMeans is known to have a memory leak on Windows with MKL, when there are less chunks than available threads. You can avoid it by setting the environment variable OMP_NUM_THREADS=5.\n",
      "  warnings.warn(\n",
      "c:\\Users\\jm121\\miniconda3\\envs\\general_env\\Lib\\site-packages\\sklearn\\cluster\\_kmeans.py:1419: UserWarning: KMeans is known to have a memory leak on Windows with MKL, when there are less chunks than available threads. You can avoid it by setting the environment variable OMP_NUM_THREADS=5.\n",
      "  warnings.warn(\n",
      "c:\\Users\\jm121\\miniconda3\\envs\\general_env\\Lib\\site-packages\\sklearn\\cluster\\_kmeans.py:1419: UserWarning: KMeans is known to have a memory leak on Windows with MKL, when there are less chunks than available threads. You can avoid it by setting the environment variable OMP_NUM_THREADS=5.\n",
      "  warnings.warn(\n",
      "c:\\Users\\jm121\\miniconda3\\envs\\general_env\\Lib\\site-packages\\sklearn\\cluster\\_kmeans.py:1419: UserWarning: KMeans is known to have a memory leak on Windows with MKL, when there are less chunks than available threads. You can avoid it by setting the environment variable OMP_NUM_THREADS=5.\n",
      "  warnings.warn(\n",
      "c:\\Users\\jm121\\miniconda3\\envs\\general_env\\Lib\\site-packages\\sklearn\\cluster\\_kmeans.py:1419: UserWarning: KMeans is known to have a memory leak on Windows with MKL, when there are less chunks than available threads. You can avoid it by setting the environment variable OMP_NUM_THREADS=5.\n",
      "  warnings.warn(\n",
      "c:\\Users\\jm121\\miniconda3\\envs\\general_env\\Lib\\site-packages\\sklearn\\cluster\\_kmeans.py:1419: UserWarning: KMeans is known to have a memory leak on Windows with MKL, when there are less chunks than available threads. You can avoid it by setting the environment variable OMP_NUM_THREADS=5.\n",
      "  warnings.warn(\n",
      "c:\\Users\\jm121\\miniconda3\\envs\\general_env\\Lib\\site-packages\\sklearn\\cluster\\_kmeans.py:1419: UserWarning: KMeans is known to have a memory leak on Windows with MKL, when there are less chunks than available threads. You can avoid it by setting the environment variable OMP_NUM_THREADS=5.\n",
      "  warnings.warn(\n",
      "c:\\Users\\jm121\\miniconda3\\envs\\general_env\\Lib\\site-packages\\sklearn\\cluster\\_kmeans.py:1419: UserWarning: KMeans is known to have a memory leak on Windows with MKL, when there are less chunks than available threads. You can avoid it by setting the environment variable OMP_NUM_THREADS=5.\n",
      "  warnings.warn(\n",
      "c:\\Users\\jm121\\miniconda3\\envs\\general_env\\Lib\\site-packages\\sklearn\\cluster\\_kmeans.py:1419: UserWarning: KMeans is known to have a memory leak on Windows with MKL, when there are less chunks than available threads. You can avoid it by setting the environment variable OMP_NUM_THREADS=5.\n",
      "  warnings.warn(\n",
      "c:\\Users\\jm121\\miniconda3\\envs\\general_env\\Lib\\site-packages\\sklearn\\cluster\\_kmeans.py:1419: UserWarning: KMeans is known to have a memory leak on Windows with MKL, when there are less chunks than available threads. You can avoid it by setting the environment variable OMP_NUM_THREADS=5.\n",
      "  warnings.warn(\n",
      "c:\\Users\\jm121\\miniconda3\\envs\\general_env\\Lib\\site-packages\\sklearn\\cluster\\_kmeans.py:1419: UserWarning: KMeans is known to have a memory leak on Windows with MKL, when there are less chunks than available threads. You can avoid it by setting the environment variable OMP_NUM_THREADS=5.\n",
      "  warnings.warn(\n",
      "c:\\Users\\jm121\\miniconda3\\envs\\general_env\\Lib\\site-packages\\sklearn\\cluster\\_kmeans.py:1419: UserWarning: KMeans is known to have a memory leak on Windows with MKL, when there are less chunks than available threads. You can avoid it by setting the environment variable OMP_NUM_THREADS=5.\n",
      "  warnings.warn(\n",
      "c:\\Users\\jm121\\miniconda3\\envs\\general_env\\Lib\\site-packages\\sklearn\\cluster\\_kmeans.py:1419: UserWarning: KMeans is known to have a memory leak on Windows with MKL, when there are less chunks than available threads. You can avoid it by setting the environment variable OMP_NUM_THREADS=5.\n",
      "  warnings.warn(\n",
      "c:\\Users\\jm121\\miniconda3\\envs\\general_env\\Lib\\site-packages\\sklearn\\cluster\\_kmeans.py:1419: UserWarning: KMeans is known to have a memory leak on Windows with MKL, when there are less chunks than available threads. You can avoid it by setting the environment variable OMP_NUM_THREADS=5.\n",
      "  warnings.warn(\n"
     ]
    },
    {
     "data": {
      "text/plain": [
       "Text(0, 0.5, 'The Overall Mismatch Rate')"
      ]
     },
     "execution_count": 7,
     "metadata": {},
     "output_type": "execute_result"
    },
    {
     "data": {
      "image/png": "[encoded data removed]",
      "text/plain": [
       "<Figure size 2500x800 with 1 Axes>"
      ]
     },
     "metadata": {},
     "output_type": "display_data"
    }
   ],
   "source": [
    "# Test different k values\n",
    "k = np.arange(2, 20)\n",
    "\n",
    "np.random.seed(124)\n",
    "\n",
    "mismatch_arr = np.zeros(len(k))\n",
    "\n",
    "for indx, k_val in enumerate(k):\n",
    "    clusters, n, filtered_labels = spectral_clusters(k_val)\n",
    "    majority_labels, mismatch_rate, weight = find_maj_label(clusters, n, filtered_labels)\n",
    "    overall_mismatch = sum([mismatch_rate[j] * weight[j] for j in range(k_val)])\n",
    "    mismatch_arr[indx] = np.round(overall_mismatch, 4)\n",
    "\n",
    "plt.figure(figsize=(25, 8))\n",
    "plt.plot(k, mismatch_arr)\n",
    "\n",
    "# Add annotation. Adapted the annotation code from https://www.geeksforgeeks.org/line-chart-in-matplotlib-python/#\n",
    "for i, (k_val, mismatch_val) in enumerate(zip(k, mismatch_arr)):\n",
    "    plt.annotate(\n",
    "        f\"{k[i].item(), round(mismatch_arr[i].item(),2)}\",\n",
    "        (k_val, mismatch_val),\n",
    "        textcoords=\"offset points\",\n",
    "        xytext=(0, 10),\n",
    "        ha=\"center\",\n",
    "    )\n",
    "\n",
    "plt.xlabel(\"The Number of Clusters k\")\n",
    "plt.ylabel(\"The Overall Mismatch Rate\")"
   ]
  },
  {
   "cell_type": "code",
   "execution_count": 8,
   "metadata": {},
   "outputs": [
    {
     "name": "stdout",
     "output_type": "stream",
     "text": [
      "When there are 5 clusters, the minimum overall mismatch rate is 0.0441\n"
     ]
    }
   ],
   "source": [
    "min_indx = np.argmin(mismatch_arr)\n",
    "min_mismatch = mismatch_arr[min_indx]\n",
    "print(f\"When there are {k[min_indx]} clusters, the minimum overall mismatch rate is {min_mismatch}\")"
   ]
  }
 ],
 "metadata": {
  "kernelspec": {
   "display_name": "general_env",
   "language": "python",
   "name": "python3"
  },
  "language_info": {
   "codemirror_mode": {
    "name": "ipython",
    "version": 3
   },
   "file_extension": ".py",
   "mimetype": "text/x-python",
   "name": "python",
   "nbconvert_exporter": "python",
   "pygments_lexer": "ipython3",
   "version": "3.13.1"
  }
 },
 "nbformat": 4,
 "nbformat_minor": 2
}
